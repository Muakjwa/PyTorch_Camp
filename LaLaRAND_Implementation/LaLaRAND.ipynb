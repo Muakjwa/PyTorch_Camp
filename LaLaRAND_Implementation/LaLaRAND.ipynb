{
 "cells": [
  {
   "cell_type": "code",
   "execution_count": 1,
   "id": "0edd58b6-3e3a-4bf8-9bf0-cd8175f9c938",
   "metadata": {},
   "outputs": [
    {
     "name": "stdout",
     "output_type": "stream",
     "text": [
      "cuda\n"
     ]
    },
    {
     "data": {
      "text/plain": [
       "1"
      ]
     },
     "execution_count": 1,
     "metadata": {},
     "output_type": "execute_result"
    }
   ],
   "source": [
    "import torch\n",
    "from torch import nn\n",
    "import os\n",
    "\n",
    "os.environ[\"CUDA_VISIBLE_DEVICES\"]= \"5\"\n",
    "\n",
    "device = \"cuda\" if torch.cuda.is_available() else \"cpu\"\n",
    "print(device)\n",
    "\n",
    "torch.cuda.device_count()"
   ]
  },
  {
   "cell_type": "code",
   "execution_count": 2,
   "id": "6447ac79-b5f8-4859-80eb-a0e3555480ff",
   "metadata": {},
   "outputs": [],
   "source": [
    "import torch\n",
    "import torchvision"
   ]
  },
  {
   "cell_type": "code",
   "execution_count": 17,
   "id": "14f5c47a-20c3-47b7-ae10-5d4b6a92940d",
   "metadata": {},
   "outputs": [],
   "source": [
    "model_vgg_weight = torchvision.models.VGG11_Weights.DEFAULT"
   ]
  },
  {
   "cell_type": "code",
   "execution_count": 18,
   "id": "52e41b03-4e03-4940-a69b-5f37b2b81dbb",
   "metadata": {},
   "outputs": [],
   "source": [
    "model_vgg = torchvision.models.vgg11(weights=model_vgg_weight)"
   ]
  },
  {
   "cell_type": "code",
   "execution_count": 19,
   "id": "df613a6a-d987-4f4a-9de3-99e428bf5fc4",
   "metadata": {},
   "outputs": [],
   "source": [
    "lala = torch.LaLaRAND(model_vgg, [0,0,0,0,0,1,1,1,1,1,0,0,0,0,0,1,1,1,1,1,0,0,0,0,0,1,1,0,1])"
   ]
  },
  {
   "cell_type": "code",
   "execution_count": 33,
   "id": "43f996ba-bbec-4298-82b2-4091fb7e3e4c",
   "metadata": {},
   "outputs": [
    {
     "data": {
      "text/plain": [
       "tensor([[-2.6078, -0.4508,  3.8321,  ..., -1.1179, -2.7061,  4.9633],\n",
       "        [-1.7485,  0.2386,  0.1614,  ..., -1.2586,  0.5595,  3.3638],\n",
       "        [-0.3282,  1.0761, -1.2535,  ..., -0.6091, -0.5321,  2.6615],\n",
       "        ...,\n",
       "        [-0.7726, -0.1476,  1.0575,  ..., -1.2317, -1.0638,  4.0983],\n",
       "        [-3.5902, -1.1326, -0.0130,  ...,  0.2773, -1.7320,  2.0095],\n",
       "        [-3.1578, -1.5038, -0.7665,  ..., -1.3845, -0.3739,  2.5424]],\n",
       "       device='cuda:0', grad_fn=<AddmmBackward0>)"
      ]
     },
     "execution_count": 33,
     "metadata": {},
     "output_type": "execute_result"
    }
   ],
   "source": [
    "output = torch.randn((16,3,224,224))\n",
    "lala.inference(output)"
   ]
  },
  {
   "cell_type": "code",
   "execution_count": 8,
   "id": "1a1a0515-584f-46f0-8eec-a1b592056e7a",
   "metadata": {
    "scrolled": true
   },
   "outputs": [
    {
     "name": "stdout",
     "output_type": "stream",
     "text": [
      "Thu Jan 18 11:47:13 2024       \n",
      "+---------------------------------------------------------------------------------------+\n",
      "| NVIDIA-SMI 530.30.02              Driver Version: 530.30.02    CUDA Version: 12.1     |\n",
      "|-----------------------------------------+----------------------+----------------------+\n",
      "| GPU  Name                  Persistence-M| Bus-Id        Disp.A | Volatile Uncorr. ECC |\n",
      "| Fan  Temp  Perf            Pwr:Usage/Cap|         Memory-Usage | GPU-Util  Compute M. |\n",
      "|                                         |                      |               MIG M. |\n",
      "|=========================================+======================+======================|\n",
      "|   0  NVIDIA GeForce RTX 3090         On | 00000000:1D:00.0 Off |                  N/A |\n",
      "| 30%   36C    P8               34W / 350W|   3649MiB / 24576MiB |      0%      Default |\n",
      "|                                         |                      |                  N/A |\n",
      "+-----------------------------------------+----------------------+----------------------+\n",
      "|   1  NVIDIA GeForce RTX 3090         On | 00000000:1E:00.0 Off |                  N/A |\n",
      "| 30%   33C    P8               20W / 350W|      3MiB / 24576MiB |      0%      Default |\n",
      "|                                         |                      |                  N/A |\n",
      "+-----------------------------------------+----------------------+----------------------+\n",
      "|   2  NVIDIA GeForce RTX 3090         On | 00000000:1F:00.0 Off |                  N/A |\n",
      "| 30%   32C    P8               20W / 350W|      3MiB / 24576MiB |      0%      Default |\n",
      "|                                         |                      |                  N/A |\n",
      "+-----------------------------------------+----------------------+----------------------+\n",
      "|   3  NVIDIA GeForce RTX 3090         On | 00000000:20:00.0 Off |                  N/A |\n",
      "| 30%   31C    P8               15W / 350W|      3MiB / 24576MiB |      0%      Default |\n",
      "|                                         |                      |                  N/A |\n",
      "+-----------------------------------------+----------------------+----------------------+\n",
      "|   4  NVIDIA GeForce RTX 3090         On | 00000000:21:00.0 Off |                  N/A |\n",
      "| 30%   32C    P8               19W / 350W|   2307MiB / 24576MiB |      0%      Default |\n",
      "|                                         |                      |                  N/A |\n",
      "+-----------------------------------------+----------------------+----------------------+\n",
      "|   5  NVIDIA GeForce RTX 3090         On | 00000000:22:00.0 Off |                  N/A |\n",
      "| 30%   39C    P2              113W / 350W|   1983MiB / 24576MiB |      0%      Default |\n",
      "|                                         |                      |                  N/A |\n",
      "+-----------------------------------------+----------------------+----------------------+\n",
      "|   6  NVIDIA GeForce RTX 3090         On | 00000000:23:00.0 Off |                  N/A |\n",
      "| 30%   33C    P8               25W / 350W|      3MiB / 24576MiB |      0%      Default |\n",
      "|                                         |                      |                  N/A |\n",
      "+-----------------------------------------+----------------------+----------------------+\n",
      "|   7  NVIDIA GeForce RTX 3090         On | 00000000:24:00.0 Off |                  N/A |\n",
      "| 30%   32C    P8               16W / 350W|      3MiB / 24576MiB |      0%      Default |\n",
      "|                                         |                      |                  N/A |\n",
      "+-----------------------------------------+----------------------+----------------------+\n",
      "                                                                                         \n",
      "+---------------------------------------------------------------------------------------+\n",
      "| Processes:                                                                            |\n",
      "|  GPU   GI   CI        PID   Type   Process name                            GPU Memory |\n",
      "|        ID   ID                                                             Usage      |\n",
      "|=======================================================================================|\n",
      "+---------------------------------------------------------------------------------------+\n"
     ]
    }
   ],
   "source": [
    "!nvidia-smi"
   ]
  },
  {
   "cell_type": "code",
   "execution_count": 6,
   "id": "a466b2ca-4e8a-4308-b12b-ea12015a6402",
   "metadata": {},
   "outputs": [],
   "source": [
    "import time\n",
    "import numpy as np"
   ]
  },
  {
   "cell_type": "code",
   "execution_count": 7,
   "id": "e168fde0-f848-4c0e-8ae0-958f18882a6a",
   "metadata": {},
   "outputs": [],
   "source": [
    "starter, ender = torch.cuda.Event(enable_timing=True), torch.cuda.Event(enable_timing=True)\n",
    "repetitions = 300\n",
    "timings=np.zeros((repetitions,1))\n",
    "\n",
    "input = torch.randn((16,3,224,224))\n",
    "for _ in range(10):\n",
    "    _ = model_vgg(input)\n",
    "    \n",
    "# MEASURE PERFORMANCE\n",
    "with torch.no_grad():\n",
    "    for rep in range(repetitions):\n",
    "        input = torch.randn((16,3,224,224))\n",
    "        starter.record()\n",
    "        output = model_vgg(input)\n",
    "        ender.record()\n",
    "        # WAIT FOR GPU SYNC\n",
    "        torch.cuda.synchronize()\n",
    "        curr_time = starter.elapsed_time(ender)\n",
    "        timings[rep] = curr_time"
   ]
  },
  {
   "cell_type": "code",
   "execution_count": 8,
   "id": "3838d799-d42d-44ca-b8cf-6e06f6d6e76f",
   "metadata": {},
   "outputs": [],
   "source": [
    "model_vgg.to('cuda')\n",
    "starter, ender = torch.cuda.Event(enable_timing=True), torch.cuda.Event(enable_timing=True)\n",
    "repetitions = 300\n",
    "gpu_timings=np.zeros((repetitions,1))\n",
    "\n",
    "input = torch.randn((16,3,224,224)).to('cuda')\n",
    "for _ in range(10):\n",
    "    _ = model_vgg(input)\n",
    "    \n",
    "# MEASURE PERFORMANCE\n",
    "with torch.no_grad():\n",
    "    for rep in range(repetitions):\n",
    "        input = torch.randn((16,3,224,224)).to('cuda')\n",
    "        starter.record()\n",
    "        output = model_vgg(input)\n",
    "        ender.record()\n",
    "        # WAIT FOR GPU SYNC\n",
    "        torch.cuda.synchronize()\n",
    "        curr_time = starter.elapsed_time(ender)\n",
    "        gpu_timings[rep] = curr_time"
   ]
  },
  {
   "cell_type": "code",
   "execution_count": 13,
   "id": "5e3e96d7-fdda-45b3-95e1-7197722308c2",
   "metadata": {},
   "outputs": [],
   "source": [
    "lala = torch.LaLaRAND(model_vgg, [0,1,0,1,0,1,0,1,0,1,0,1,0,1,0,1,0,1,0,1,0,1,0,1,0,1,0,1,0])"
   ]
  },
  {
   "cell_type": "code",
   "execution_count": 20,
   "id": "f2a9f8ee-2441-4bea-a066-057c7df79eea",
   "metadata": {
    "scrolled": true
   },
   "outputs": [],
   "source": [
    "starter, ender = torch.cuda.Event(enable_timing=True), torch.cuda.Event(enable_timing=True)\n",
    "repetitions = 300\n",
    "mixed_timings=np.zeros((repetitions,1))\n",
    "\n",
    "input = torch.randn((16,3,224,224)).to('cuda')\n",
    "for _ in range(10):\n",
    "    _ = lala.inference(input)\n",
    "    \n",
    "# MEASURE PERFORMANCE\n",
    "with torch.no_grad():\n",
    "    for rep in range(repetitions):\n",
    "        input = torch.randn((16,3,224,224)).to('cuda')\n",
    "        starter.record()\n",
    "        output = lala.inference(input)\n",
    "        ender.record()\n",
    "        # WAIT FOR GPU SYNC\n",
    "        torch.cuda.synchronize()\n",
    "        curr_time = starter.elapsed_time(ender)\n",
    "        mixed_timings[rep] = curr_time"
   ]
  },
  {
   "cell_type": "code",
   "execution_count": 21,
   "id": "63772108-2a0c-44af-9a6e-de23b1a8eb0d",
   "metadata": {},
   "outputs": [],
   "source": [
    "import matplotlib.pyplot as plt"
   ]
  },
  {
   "cell_type": "code",
   "execution_count": 22,
   "id": "9dddd9f9-8bf0-475f-866e-454225e8bc04",
   "metadata": {},
   "outputs": [
    {
     "data": {
      "image/png": "[encoded data removed]",
      "text/plain": [
       "<Figure size 640x480 with 1 Axes>"
      ]
     },
     "metadata": {},
     "output_type": "display_data"
    }
   ],
   "source": [
    "plt.plot(timings, label = 'CPU')\n",
    "plt.plot(gpu_timings, label = 'GPU')\n",
    "plt.plot(mixed_timings, label = 'LaLaRAND')\n",
    "plt.ylim(0,900)\n",
    "plt.legend()\n",
    "plt.show()"
   ]
  },
  {
   "cell_type": "code",
   "execution_count": 18,
   "id": "954bfc73-1a79-4470-b8e0-b22b2eb7acb2",
   "metadata": {},
   "outputs": [],
   "source": [
    "import pandas as pd"
   ]
  },
  {
   "cell_type": "code",
   "execution_count": 19,
   "id": "7ddcf308-aab6-4f11-b42b-cee82dc899cc",
   "metadata": {},
   "outputs": [],
   "source": [
    "timing = pd.DataFrame({'CPU':[timings.max(), timings.min(), timings.mean()],\n",
    "                             'GPU':[gpu_timings.max(), gpu_timings.min(), gpu_timings.mean()],\n",
    "                             'LaLaRAND':[mixed_timings.max(), mixed_timings.min(), mixed_timings.mean()]}, index = ['max', 'min', 'avg'])"
   ]
  },
  {
   "cell_type": "code",
   "execution_count": 20,
   "id": "4772a0d9-1fe6-41ba-887c-9bb5e46c3a98",
   "metadata": {},
   "outputs": [
    {
     "data": {
      "text/html": [
       "<div>\n",
       "<style scoped>\n",
       "    .dataframe tbody tr th:only-of-type {\n",
       "        vertical-align: middle;\n",
       "    }\n",
       "\n",
       "    .dataframe tbody tr th {\n",
       "        vertical-align: top;\n",
       "    }\n",
       "\n",
       "    .dataframe thead th {\n",
       "        text-align: right;\n",
       "    }\n",
       "</style>\n",
       "<table border=\"1\" class=\"dataframe\">\n",
       "  <thead>\n",
       "    <tr style=\"text-align: right;\">\n",
       "      <th></th>\n",
       "      <th>CPU</th>\n",
       "      <th>GPU</th>\n",
       "      <th>LaLaRAND</th>\n",
       "    </tr>\n",
       "  </thead>\n",
       "  <tbody>\n",
       "    <tr>\n",
       "      <th>max</th>\n",
       "      <td>456.629242</td>\n",
       "      <td>11.973824</td>\n",
       "      <td>836.872437</td>\n",
       "    </tr>\n",
       "    <tr>\n",
       "      <th>min</th>\n",
       "      <td>266.923004</td>\n",
       "      <td>11.104448</td>\n",
       "      <td>530.579407</td>\n",
       "    </tr>\n",
       "    <tr>\n",
       "      <th>avg</th>\n",
       "      <td>336.892289</td>\n",
       "      <td>11.134820</td>\n",
       "      <td>696.081403</td>\n",
       "    </tr>\n",
       "  </tbody>\n",
       "</table>\n",
       "</div>"
      ],
      "text/plain": [
       "            CPU        GPU    LaLaRAND\n",
       "max  456.629242  11.973824  836.872437\n",
       "min  266.923004  11.104448  530.579407\n",
       "avg  336.892289  11.134820  696.081403"
      ]
     },
     "execution_count": 20,
     "metadata": {},
     "output_type": "execute_result"
    }
   ],
   "source": [
    "timing"
   ]
  },
  {
   "cell_type": "code",
   "execution_count": 23,
   "id": "3490d4e2-23a9-4d89-95d0-c1f6317d5c1c",
   "metadata": {},
   "outputs": [],
   "source": [
    "import os"
   ]
  },
  {
   "cell_type": "code",
   "execution_count": 24,
   "id": "576b77d1-17ea-49bb-b1ba-4debed6b440d",
   "metadata": {},
   "outputs": [
    {
     "data": {
      "text/plain": [
       "64"
      ]
     },
     "execution_count": 24,
     "metadata": {},
     "output_type": "execute_result"
    }
   ],
   "source": [
    "os.cpu_count()"
   ]
  },
  {
   "cell_type": "code",
   "execution_count": null,
   "id": "c62ac32c-759b-4407-bcc8-3d55f843126f",
   "metadata": {},
   "outputs": [],
   "source": []
  }
 ],
 "metadata": {
  "kernelspec": {
   "display_name": "Python 3 (ipykernel)",
   "language": "python",
   "name": "python3"
  },
  "language_info": {
   "codemirror_mode": {
    "name": "ipython",
    "version": 3
   },
   "file_extension": ".py",
   "mimetype": "text/x-python",
   "name": "python",
   "nbconvert_exporter": "python",
   "pygments_lexer": "ipython3",
   "version": "3.10.13"
  }
 },
 "nbformat": 4,
 "nbformat_minor": 5
}
